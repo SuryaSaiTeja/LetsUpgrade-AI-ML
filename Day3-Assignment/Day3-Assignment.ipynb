{
 "cells": [
  {
   "cell_type": "markdown",
   "metadata": {},
   "source": [
    "# Day 3 Assignment"
   ]
  },
  {
   "cell_type": "markdown",
   "metadata": {},
   "source": [
    "## Question 1 :\n",
    "### Write a program to subtract two complex numbers"
   ]
  },
  {
   "cell_type": "code",
   "execution_count": 1,
   "metadata": {},
   "outputs": [
    {
     "name": "stdout",
     "output_type": "stream",
     "text": [
      "Enter 1st complex number : 1+2j\n",
      "Enter 2nd complex number : 3-4j\n",
      "Subtraction of two complex numbers :  (-2+6j)\n"
     ]
    }
   ],
   "source": [
    "def complxsub(a,b):\n",
    "    return a-b\n",
    "a=complex(input(\"Enter 1st complex number : \"))\n",
    "b=complex(input(\"Enter 2nd complex number : \"))\n",
    "\n",
    "print(\"Subtraction of two complex numbers : \", complxsub(a,b))"
   ]
  },
  {
   "cell_type": "markdown",
   "metadata": {},
   "source": [
    "## Question 2 :\n",
    "### Write a program to find the fourth root of a number"
   ]
  },
  {
   "cell_type": "code",
   "execution_count": 8,
   "metadata": {},
   "outputs": [
    {
     "name": "stdout",
     "output_type": "stream",
     "text": [
      "Enter a no: 16\n",
      "Fourth Root of the no is:  2.0\n"
     ]
    }
   ],
   "source": [
    "def fourthroot(x):\n",
    "    return x**(1.0/4)\n",
    "\n",
    "n = float(input(\"Enter a no: \"))\n",
    "print (\"Fourth Root of the no is: \",fourthroot(n))"
   ]
  },
  {
   "cell_type": "markdown",
   "metadata": {},
   "source": [
    "## Question 3 :\n",
    "### Write a program to swap two numbers in Python with the help of a temporary variable."
   ]
  },
  {
   "cell_type": "code",
   "execution_count": 10,
   "metadata": {},
   "outputs": [
    {
     "name": "stdout",
     "output_type": "stream",
     "text": [
      "Enter Number1: 999\n",
      "Enter Number2: 33\n",
      "Number1 Value now is : 33\n",
      "Number2 Value now is : 999\n"
     ]
    }
   ],
   "source": [
    "def swapwithtemp(x,y):\n",
    "    temp = x\n",
    "    x = y\n",
    "    y = temp\n",
    "    print (\"Number1 Value now is :\",x)\n",
    "    print (\"Number2 Value now is :\",y)\n",
    "\n",
    "n1 = int(input(\"Enter Number1: \"))\n",
    "n2 = int(input(\"Enter Number2: \"))\n",
    "swapwithtemp(n1,n2)"
   ]
  },
  {
   "cell_type": "markdown",
   "metadata": {},
   "source": [
    "## Question 4 :\n",
    "### Write a program to swap two numbers in Python without using a temporary variable."
   ]
  },
  {
   "cell_type": "code",
   "execution_count": 14,
   "metadata": {},
   "outputs": [
    {
     "name": "stdout",
     "output_type": "stream",
     "text": [
      "Enter  a number :5\n",
      "Enter  a number :10\n",
      "Before Swap : n1 = 5 , n2 = 10\n",
      "After Swap  : n1 = 10 , n2 = 5\n"
     ]
    }
   ],
   "source": [
    "n1 = int(input(\"Enter  a number :\"))\n",
    "n2 = int(input(\"Enter  a number :\"))\n",
    "\n",
    "print(f\"Before Swap : n1 = {n1} , n2 = {n2}\")\n",
    "\n",
    "n1, n2 = n2, n1\n",
    "\n",
    "print(f\"After Swap  : n1 = {n1} , n2 = {n2}\")"
   ]
  },
  {
   "cell_type": "markdown",
   "metadata": {},
   "source": [
    "## Question 5 :\n",
    "### Write a program to convert fahrenheit to kelvin and celsius both."
   ]
  },
  {
   "cell_type": "code",
   "execution_count": 15,
   "metadata": {},
   "outputs": [
    {
     "name": "stdout",
     "output_type": "stream",
     "text": [
      "Enter Temperature in Fahrenheit: 95\n",
      "Temperature in Kelvin (K) = 308.50\n",
      "Temperature in Celsius (C) = 35.00\n"
     ]
    }
   ],
   "source": [
    "def FahrenheitToKelvin(F): \n",
    "    return 273.5 + ((F - 32.0) * (5.0/9.0)) \n",
    "\n",
    "def FahrenheitToCelsius(F): \n",
    "    return (F - 32) * 5 / 9; \n",
    "\n",
    "F = float(input(\"Enter Temperature in Fahrenheit: \"))\n",
    "print(\"Temperature in Kelvin (K) = {:.2f}\".format(FahrenheitToKelvin(F)))\n",
    "print(\"Temperature in Celsius (C) = {:.2f}\".format(FahrenheitToCelsius(F)))"
   ]
  },
  {
   "cell_type": "markdown",
   "metadata": {},
   "source": [
    "## Question 6 :\n",
    "### Write a program to demonstrate all the available data types in Python. Hint: Use type() function."
   ]
  },
  {
   "cell_type": "code",
   "execution_count": 19,
   "metadata": {},
   "outputs": [
    {
     "data": {
      "text/plain": [
       "int"
      ]
     },
     "execution_count": 19,
     "metadata": {},
     "output_type": "execute_result"
    },
    {
     "data": {
      "text/plain": [
       "float"
      ]
     },
     "execution_count": 19,
     "metadata": {},
     "output_type": "execute_result"
    },
    {
     "data": {
      "text/plain": [
       "complex"
      ]
     },
     "execution_count": 19,
     "metadata": {},
     "output_type": "execute_result"
    },
    {
     "data": {
      "text/plain": [
       "str"
      ]
     },
     "execution_count": 19,
     "metadata": {},
     "output_type": "execute_result"
    },
    {
     "data": {
      "text/plain": [
       "list"
      ]
     },
     "execution_count": 19,
     "metadata": {},
     "output_type": "execute_result"
    },
    {
     "data": {
      "text/plain": [
       "bool"
      ]
     },
     "execution_count": 19,
     "metadata": {},
     "output_type": "execute_result"
    },
    {
     "data": {
      "text/plain": [
       "NoneType"
      ]
     },
     "execution_count": 19,
     "metadata": {},
     "output_type": "execute_result"
    },
    {
     "data": {
      "text/plain": [
       "tuple"
      ]
     },
     "execution_count": 19,
     "metadata": {},
     "output_type": "execute_result"
    },
    {
     "data": {
      "text/plain": [
       "dict"
      ]
     },
     "execution_count": 19,
     "metadata": {},
     "output_type": "execute_result"
    },
    {
     "data": {
      "text/plain": [
       "set"
      ]
     },
     "execution_count": 19,
     "metadata": {},
     "output_type": "execute_result"
    }
   ],
   "source": [
    "from IPython.core.interactiveshell import InteractiveShell\n",
    "InteractiveShell.ast_node_interactivity = \"all\"\n",
    "\n",
    "type(1)\n",
    "type(1.2)\n",
    "type(1+2j)\n",
    "type('LetsUpgrade')\n",
    "type([1, 2, 'LetsUpgrade'])\n",
    "type(True)\n",
    "type(None)\n",
    "type((1, 1.4, False))\n",
    "type({1: 'hello', 2: \"Python\"})\n",
    "type({5, 7, 'LetsUpgrade'})"
   ]
  },
  {
   "cell_type": "markdown",
   "metadata": {},
   "source": [
    "## Question 7:\n",
    "Create a Markdown cell in jupyter and list the steps discussed in the session by Dr. Darshan Ingle sir to create Github profile and upload Githubs Assignment link.\n",
    "\n",
    "- Create a Github public repo and name it LetsUpgrade AI/ML\n",
    "- Upload the files/solution in the repo in day wise manner.\n",
    "- Copy the URL of the Folder of that day and paste in the Assignment Submission Form (Google Form)\n",
    "- Make sure you are filling correct details in the Assignment Submission Form."
   ]
  },
  {
   "cell_type": "code",
   "execution_count": null,
   "metadata": {},
   "outputs": [],
   "source": []
  }
 ],
 "metadata": {
  "kernelspec": {
   "display_name": "Python 3",
   "language": "python",
   "name": "python3"
  },
  "language_info": {
   "codemirror_mode": {
    "name": "ipython",
    "version": 3
   },
   "file_extension": ".py",
   "mimetype": "text/x-python",
   "name": "python",
   "nbconvert_exporter": "python",
   "pygments_lexer": "ipython3",
   "version": "3.7.6"
  }
 },
 "nbformat": 4,
 "nbformat_minor": 4
}
