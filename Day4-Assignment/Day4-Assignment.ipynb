{
 "cells": [
  {
   "cell_type": "markdown",
   "metadata": {},
   "source": [
    "## Question 1 :\n",
    "Research on whether addition, subtraction, multiplication, division, floor division and modulo\n",
    "operations be performed on complex numbers. Based on your study, implement a Python\n",
    "program to demonstrate these operations."
   ]
  },
  {
   "cell_type": "markdown",
   "metadata": {},
   "source": [
    "## Answer :\n",
    "- After researching, I got to know that, for complex numbers, floor division and modulo operator is not applicable.\n",
    "- Modulus of complex number |z| is equal to √(x^2 + y^2) where x and y are coefficients i and j of complex number."
   ]
  },
  {
   "cell_type": "code",
   "execution_count": 2,
   "metadata": {},
   "outputs": [
    {
     "name": "stdout",
     "output_type": "stream",
     "text": [
      "Enter 1st complex number : 1+2j\n",
      "Enter 2nd complex number : 10+11j\n",
      "Addition of Complex numbers  (1+2j)  and  (10+11j)  is  (11+13j)\n",
      "Subtraction of Complex numbers  (1+2j)  and  (10+11j)  is  (-9-9j)\n",
      "Multiplication of Complex numbers  (1+2j)  and  (10+11j)  is  (-12+31j)\n",
      "Division of Complex numbers  (1+2j)  and  (10+11j)  is  (0.14479638009049775+0.04072398190045249j)\n"
     ]
    }
   ],
   "source": [
    "a=complex(input(\"Enter 1st complex number : \"))\n",
    "b=complex(input(\"Enter 2nd complex number : \"))\n",
    "\n",
    "print(\"Addition of Complex numbers \",a,\" and \",b,\" is \",a+b)\n",
    "print(\"Subtraction of Complex numbers \",a,\" and \",b,\" is \",a-b)\n",
    "print(\"Multiplication of Complex numbers \",a,\" and \",b,\" is \",a*b)\n",
    "print(\"Division of Complex numbers \",a,\" and \",b,\" is \",a/b)"
   ]
  },
  {
   "cell_type": "markdown",
   "metadata": {},
   "source": [
    "## Question 2 :\n",
    "Research on range() functions and its parameters. Create a markdown cell and write in your own\n",
    "words (no copy-paste from google please) what you understand about it. Implement a small\n",
    "program of your choice on the same."
   ]
  },
  {
   "cell_type": "markdown",
   "metadata": {},
   "source": [
    "## Answer : \n",
    "\n",
    "Range is a python built-in function used to generate a sequence of numbers. This can be used in looping system.\n",
    "#### Syntax : range(start, stop, step)\n",
    "- start: optional-From number to start.Starting from zero(0) by default.\n",
    "- stop: required-To number to stop. (Not include)\n",
    "- step: Optional-Incrementation."
   ]
  },
  {
   "cell_type": "markdown",
   "metadata": {},
   "source": [
    "#### Program to understand the range() function"
   ]
  },
  {
   "cell_type": "code",
   "execution_count": 16,
   "metadata": {},
   "outputs": [
    {
     "name": "stdout",
     "output_type": "stream",
     "text": [
      "passing one parameter in range function\n",
      "0 1 2 3 4 5 6 7 \n",
      "\n",
      "passing two parameters in range function\n",
      "2 3 4 5 6 7 8 9 10 11 \n",
      "\n",
      "passing three parameters in range function\n",
      "5 10 15 20 25 30 "
     ]
    }
   ],
   "source": [
    "print(\"passing one parameter in range function\")\n",
    "for i in range(8):\n",
    "    print(i, end=' ')\n",
    "\n",
    "print(\"\\n\\npassing two parameters in range function\")\n",
    "for i in range(2,12):\n",
    "    print(i, end=' ')\n",
    "\n",
    "print(\"\\n\\npassing three parameters in range function\")\n",
    "for i in range(5,35,5):\n",
    "    print(i, end=' ')"
   ]
  },
  {
   "cell_type": "markdown",
   "metadata": {},
   "source": [
    "## Question 3 :\n",
    "Consider two numbers. Perform their subtraction and if the result of subtraction is greater than\n",
    "25, print their multiplication result else print their division result.\n"
   ]
  },
  {
   "cell_type": "code",
   "execution_count": 18,
   "metadata": {},
   "outputs": [
    {
     "name": "stdout",
     "output_type": "stream",
     "text": [
      "Enter a number: 100\n",
      "Enter another number : 25\n",
      "Multiplication of two numbers is:  2500\n"
     ]
    }
   ],
   "source": [
    "\n",
    "a = int(input(\"Enter a number: \"))\n",
    "b = int(input(\"Enter another number : \"))\n",
    "\n",
    "sub = a - b\n",
    "\n",
    "if (sub > 25):\n",
    "    print(\"Multiplication of two numbers is: \",a*b)\n",
    "\n",
    "else:\n",
    "    print(\"Division of two numbers is: \",a/b)"
   ]
  },
  {
   "cell_type": "markdown",
   "metadata": {},
   "source": [
    "## Question 4:\n",
    "Consider a list of 10 elements of integer values. If the number in the list is divisible by 2, print the\n",
    "result as \"square of that number minus 2\".\n"
   ]
  },
  {
   "cell_type": "code",
   "execution_count": 22,
   "metadata": {},
   "outputs": [
    {
     "name": "stdout",
     "output_type": "stream",
     "text": [
      "Square of number minus 2 of numbers which are divisible by 2 are : \n",
      "98\n",
      "39998\n",
      "1378274\n",
      "1294\n",
      "1498174\n",
      "9602\n"
     ]
    }
   ],
   "source": [
    "list = [10,200,1174,36,987,1,941,1224,98,139]\n",
    "print(\"Square of number minus 2 of numbers which are divisible by 2 are : \")\n",
    "for num in list:\n",
    "    if num%2 == 0:\n",
    "        print((num**2)-2)"
   ]
  },
  {
   "cell_type": "markdown",
   "metadata": {},
   "source": [
    "## Question 5:\n",
    "Consider a list of 10 elements. Print all the elements in the list which are greater than 7 when that\n",
    "number is divided 2."
   ]
  },
  {
   "cell_type": "code",
   "execution_count": 25,
   "metadata": {},
   "outputs": [
    {
     "name": "stdout",
     "output_type": "stream",
     "text": [
      "Elements in the list which are greater than 7 when that number is divided 2 : \n",
      "64\n",
      "36\n",
      "987\n",
      "98\n",
      "34\n"
     ]
    }
   ],
   "source": [
    "list = [10,64,1,36,987,1,5,14,98,34]\n",
    "print(\"Elements in the list which are greater than 7 when that number is divided 2 : \")\n",
    "for n in list:\n",
    "    if n/2 > 7:\n",
    "        print(n)"
   ]
  },
  {
   "cell_type": "code",
   "execution_count": null,
   "metadata": {},
   "outputs": [],
   "source": []
  }
 ],
 "metadata": {
  "kernelspec": {
   "display_name": "Python 3",
   "language": "python",
   "name": "python3"
  },
  "language_info": {
   "codemirror_mode": {
    "name": "ipython",
    "version": 3
   },
   "file_extension": ".py",
   "mimetype": "text/x-python",
   "name": "python",
   "nbconvert_exporter": "python",
   "pygments_lexer": "ipython3",
   "version": "3.7.6"
  }
 },
 "nbformat": 4,
 "nbformat_minor": 4
}
